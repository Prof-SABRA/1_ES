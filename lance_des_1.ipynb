{
 "cells": [
  {
   "cell_type": "markdown",
   "id": "continental-metropolitan",
   "metadata": {
    "tags": []
   },
   "source": [
    "<h1 align=\"center\" style=\"font-size:40px\"> AN1 : lancer de dés </h1> \n",
    "<img src=\"https://www.lapouleapois.fr/img/cms/des.jpg\" alt=\"lancé de dés\" style=\"margin-left: auto; margin-right: auto;width:5cm\">\n",
    "<p style=\"text-align:center; color:orange; font-family:bold; font-size:20pt\"> Niveau &#10122;</p>"
   ]
  },
  {
   "cell_type": "markdown",
   "id": "fatty-housing",
   "metadata": {
    "tags": []
   },
   "source": [
    "<div class=\"alert alert-block alert-danger\">\n",
    "    <b>CONSIGNES GENERALES</b>\n",
    "     <ul>\n",
    "        <li> Lire les consignes dans les cellules bleues. </li>\n",
    "        <li> Les aides (cellules vertes) et les solutions (cellules jaunes)ne sont à utiliser qu'après avoir vraiment essayé de compléter le code. </li>\n",
    "         <li> Après avoir compléter une cellule, appuyer sur CTRL + ENTREE pour l'exécuter avant de passer à la suite</li>\n",
    "        <li> On trouvera des informations sur la syntaxe de python en suivant <a href=\"https://nuage-creteil.beta.education.fr/s/CAGbaAyDgCXm9pE\">ce lien</a>.\n",
    "</div>"
   ]
  },
  {
   "cell_type": "markdown",
   "id": "accepting-navigation",
   "metadata": {
    "tags": []
   },
   "source": [
    "<div class=\"alert alert-block alert-info\">\n",
    "    <b> Consignes </b>\n",
    "    <p> Exécuter la cellule suivante (CTRL + ENTREE) et passer à la question suivante  </p>\n",
    "</div>"
   ]
  },
  {
   "cell_type": "code",
   "execution_count": null,
   "id": "continued-child",
   "metadata": {
    "tags": []
   },
   "outputs": [],
   "source": [
    "from random import randint  #fonction renvoyant aléatoirement en entier\n",
    "import matplotlib.pyplot as plt # Tracer de graphique"
   ]
  },
  {
   "cell_type": "markdown",
   "id": "comparative-representation",
   "metadata": {
    "tags": []
   },
   "source": [
    "<div class=\"alert alert-block alert-info\">\n",
    "    <b> Consignes </b>\n",
    "    <p> La fonction <code>randint(a,b)</code> de la bibliothèque random renvoie aléatoirement un entier $N$ tel que: \n",
    "        $$ a \\leqslant N \\leqslant b$$    <ol>\n",
    "        <li> Compléter la ligne 8 pour simuler le tirage d'un dés  </li>\n",
    "        <li> Compléter la ligne 6 pour que ce tirage s'effectue pour tous les dés. </li>\n",
    "    </ol>\n",
    "</div>"
   ]
  },
  {
   "cell_type": "code",
   "execution_count": null,
   "id": "organic-affairs",
   "metadata": {
    "tags": []
   },
   "outputs": [],
   "source": [
    "def lancer_des(nb_des_i):\n",
    "    '''Fonction prenant en argument le nombre  de dés initial\n",
    "    On effectue un tirage et chaque dés donnant 6 est supprimé\n",
    "    La fonction renvoie le nombre de dés restant '''\n",
    "    nb_des_rest = int(...)\n",
    "    for i in range(nb_des_i):\n",
    "        # tirage aléatoire d'un nombre : dépend du nombre de face du dés\n",
    "        resultat_lance = randint(...) \n",
    "        if resultat_lance == 6 :\n",
    "            nb_des_rest = nb_des_rest-1\n",
    "    return nb_des_rest"
   ]
  },
  {
   "cell_type": "markdown",
   "id": "fleet-entrepreneur",
   "metadata": {
    "tags": []
   },
   "source": [
    "<div class=\"alert alert-block alert-success\">\n",
    "    <details>\n",
    "        <summary> <b> Aides </b> </summary>\n",
    "        <ul>\n",
    "            <li> <b> ligne 8 :   </b> On rappelle qu'un dés possède 6 faces... </li>\n",
    "            <li> <b> Ligne 6 :</b> Il faut trouver le nom de la variable correspondant au nombre de dés inital. </li>\n",
    "        </ul>\n",
    "    </details>\n",
    "</div>"
   ]
  },
  {
   "cell_type": "markdown",
   "id": "valid-cursor",
   "metadata": {},
   "source": [
    "<div class=\"alert alert-block alert-warning\">\n",
    " <details>\n",
    "        <summary> <b> Solution </b> </summary>\n",
    "        <ul>\n",
    "            <li> <b> Ligne 8 </b> : <code>resultat_lance = randint(1, 6)  </code> </li>\n",
    "            <li> <b> Ligne 6 </b> : <code>for i in range(nb_des_i): </code> </li>\n",
    "        </ul>\n",
    "    </details>\n",
    "</div>"
   ]
  },
  {
   "cell_type": "markdown",
   "id": "demonstrated-classroom",
   "metadata": {
    "tags": []
   },
   "source": [
    "<div class=\"alert alert-block alert-info\">\n",
    "    <b> Consignes </b>\n",
    "    <p> Pour tester la fonction lancer_des, compléter et exécuter la cellule suivant pour simuler le lancer de 1000 dés.</p>\n",
    "</div>"
   ]
  },
  {
   "cell_type": "code",
   "execution_count": null,
   "id": "educational-beauty",
   "metadata": {},
   "outputs": [],
   "source": [
    "lancer_der(...)"
   ]
  },
  {
   "cell_type": "markdown",
   "id": "political-programmer",
   "metadata": {},
   "source": [
    "<div class=\"alert alert-block alert-warning\">\n",
    "    <details>\n",
    "        <summary> <b> Solution </b> </summary>\n",
    "    <code>lancer_des(1000)</code> \n",
    "    </details>\n",
    "</div>"
   ]
  },
  {
   "cell_type": "markdown",
   "id": "narrow-palace",
   "metadata": {
    "tags": []
   },
   "source": [
    "<div class=\"alert alert-block alert-info\">\n",
    "    <b> Consignes </b>\n",
    "    <p> Compléter la ligne 14</p>"
   ]
  },
  {
   "cell_type": "code",
   "execution_count": null,
   "id": "alpine-cooler",
   "metadata": {
    "tags": []
   },
   "outputs": [],
   "source": [
    "def simul (nb_des_i):\n",
    "    '''Fonction prenant en argument le nombre de dés initial.\n",
    "    Elle fait appelle à la fonction lance_des et affiche le graphique \n",
    "    représentant la variation du nombre de dés au cours des lancés.'''\n",
    "    ### initialisation des variables ###\n",
    "    N_t = int(nb_des_i)\n",
    "    # liste comptant les lancés\n",
    "    LANCES = []\n",
    "    # liste contenant les nombre de dés après chaque lancé\n",
    "    N = [] \n",
    "    compteur = 0\n",
    "    \n",
    "    ### lancé des dés tant qu'il en reste plus de 10% ###\n",
    "    ... N_t > ... * nb_des_i :\n",
    "        LANCES.append(compteur)\n",
    "        N.append(N_t)\n",
    "        N_t = lancer_des(N_t)\n",
    "        # On incrémente le compteur\n",
    "        compteur = compteur + 1 \n",
    "        \n",
    "    ### tracer de la courbe ###\n",
    "    plt.plot(LANCES, N, '-o' )\n",
    "    #quelques éléments graphiques\n",
    "    plt.grid()\n",
    "    plt.xlim(0)\n",
    "    plt.ylim(0)\n",
    "    plt.xlabel(\"Nombre de tirages\")\n",
    "    plt.ylabel(\"Nombre de dés restants\")\n",
    "    plt.show()"
   ]
  },
  {
   "cell_type": "markdown",
   "id": "blank-brass",
   "metadata": {
    "tags": []
   },
   "source": [
    "<div class=\"alert alert-block alert-success\">\n",
    "    <details>\n",
    "       <summary> <b> Aides </b> </summary>\n",
    "        <ul>\n",
    "            <li> On utilise une boucle bornée</li>\n",
    "            <li> 10 % correspond à une multiplication par...</li>\n",
    "            <li> On pourra utiliser <a href=\"https://nuage-creteil.beta.education.fr/s/CAGbaAyDgCXm9pE\">ce lien</a>.\n",
    "    </details>\n",
    "</div>"
   ]
  },
  {
   "cell_type": "markdown",
   "id": "sapphire-bidder",
   "metadata": {},
   "source": [
    "<div class=\"alert alert-block alert-warning\">\n",
    "    <details>\n",
    "        <summary> <b> Solution </b> </summary>\n",
    "        <p><code>while N_t > 0.1 * nb_des_i: </code> </p>\n",
    "    </details>\n",
    "</div>"
   ]
  },
  {
   "cell_type": "markdown",
   "id": "6eedaca7-d9d9-4fed-a759-a3e85e116836",
   "metadata": {
    "tags": []
   },
   "source": [
    "<div class=\"alert alert-block alert-info\">\n",
    "    <b> Consignes </b>\n",
    "    <p> Utiliser les cellules ci-dessous pour répondre aux questionx 2 et 3. </p>"
   ]
  },
  {
   "cell_type": "code",
   "execution_count": null,
   "id": "endless-morning",
   "metadata": {},
   "outputs": [],
   "source": [
    "# Question 2\n",
    "..."
   ]
  },
  {
   "cell_type": "markdown",
   "id": "5cf57115-3376-4012-821c-73572f8746ae",
   "metadata": {
    "tags": []
   },
   "source": [
    "<div class=\"alert alert-block alert-success\">\n",
    "    <details>\n",
    "        <summary> <b> Aides </b> </summary>\n",
    "        <ul>\n",
    "            <li> Il faut utiliser la fonction définie précédemment</li>\n",
    "            <li> La valeur de l'argument est aux choix et dépend de la question</li>\n",
    "       \n",
    "</div>"
   ]
  },
  {
   "cell_type": "markdown",
   "id": "c905b168-a649-4705-a3c1-50e65c4c5055",
   "metadata": {},
   "source": [
    "<div class=\"alert alert-block alert-warning\">\n",
    "    <details>\n",
    "        <summary> <b> Solution </b> </summary>\n",
    "        <p> Il faut appeler la fonction simul en passant en argument la valeur correspondant au nombre de dès initial : 10 <code>simul(10) </code> </p>\n",
    "    </details>\n",
    "</div>"
   ]
  },
  {
   "cell_type": "code",
   "execution_count": null,
   "id": "likely-healing",
   "metadata": {},
   "outputs": [],
   "source": [
    "# Question 3\n",
    "..."
   ]
  },
  {
   "cell_type": "code",
   "execution_count": null,
   "id": "a6d7a7b2-17c4-4047-a4c7-c25dc169558f",
   "metadata": {},
   "outputs": [],
   "source": [
    "# Question 4\n",
    "..."
   ]
  }
 ],
 "metadata": {
  "kernelspec": {
   "display_name": "Python 3",
   "language": "python",
   "name": "python3"
  },
  "language_info": {
   "codemirror_mode": {
    "name": "ipython",
    "version": 3
   },
   "file_extension": ".py",
   "mimetype": "text/x-python",
   "name": "python",
   "nbconvert_exporter": "python",
   "pygments_lexer": "ipython3",
   "version": "3.8.10"
  }
 },
 "nbformat": 4,
 "nbformat_minor": 5
}

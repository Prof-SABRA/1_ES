{
 "cells": [
  {
   "cell_type": "markdown",
   "id": "continental-metropolitan",
   "metadata": {
    "tags": []
   },
   "source": [
    "<h1 align=\"center\" style=\"font-size:40px\"> AN1 : lancer de dés </h1> \n",
    "<img src=\"des.jpeg\" alt=\"lancé de dés\" style=\"margin-left: auto; margin-right: auto;width:5cm\">\n",
    "<p style=\"text-align:center; color:orange; font-family:bold; font-size:20pt\"> Niveau &#10123;</p>\n"
   ]
  },
  {
   "cell_type": "markdown",
   "id": "fatty-housing",
   "metadata": {
    "tags": []
   },
   "source": [
    "<div class=\"alert alert-block alert-danger\">\n",
    "    <b>CONSIGNES GENERALES</b>\n",
    "     <ul>\n",
    "        <li> Lire les consignes dans les cellules bleues. </li>\n",
    "        <li> Les aides (cellules vertes) et les solutions (cellules jaunes)ne sont à utiliser qu'après avoir vraiment essayé de compléter le code. </li>\n",
    "         <li> Après avoir compléter une cellule, appuyer sur CTRL + ENTREE pour l'exécuter avant de passer à la suite</li>\n",
    "        <li> On trouvera des informations sur la syntaxe de python en suivant <a href=\"https://nuage-creteil.beta.education.fr/s/CAGbaAyDgCXm9pE\">ce lien</a>.\n",
    "</div>"
   ]
  },
  {
   "cell_type": "markdown",
   "id": "accepting-navigation",
   "metadata": {
    "tags": []
   },
   "source": [
    "<div class=\"alert alert-block alert-info\">\n",
    "    <b> Consignes </b>\n",
    "    <p> Exécuter la cellule suivante (CTRL + ENTREE) pour importer les bibliothèques de fonctions utiles et passer à la question suivante  </p>\n",
    "</div>"
   ]
  },
  {
   "cell_type": "code",
   "execution_count": 1,
   "id": "continued-child",
   "metadata": {
    "tags": []
   },
   "outputs": [],
   "source": [
    "from random import randint  #fonction renvoyant aléatoirement en entier\n",
    "import matplotlib.pyplot as plt # Tracer de graphique"
   ]
  },
  {
   "cell_type": "markdown",
   "id": "comparative-representation",
   "metadata": {
    "tags": []
   },
   "source": [
    "<div class=\"alert alert-block alert-info\">\n",
    "    <b> Consignes </b>\n",
    "    <p> Exécuter la cellule suivante qui définie la fonction lancer_des et passer à la suite.</p>\n",
    "</div>"
   ]
  },
  {
   "cell_type": "code",
   "execution_count": 2,
   "id": "organic-affairs",
   "metadata": {
    "tags": []
   },
   "outputs": [],
   "source": [
    "def lancer_des(nb_des_i):\n",
    "    '''Fonction prenant en argument le nombre  de dés initial\n",
    "    On effectue un tirage et chaque dés donnant 6 est supprimé\n",
    "    La fonction renvoie le nombre de dés restant '''\n",
    "    nb_des_rest = int(nb_des_i)\n",
    "    for i in range(nb_des_i):\n",
    "        # tirage aléatoire d'un nombre : dépend du nombre de face du dés\n",
    "        resultat_lance = randint(1, 6) \n",
    "        if resultat_lance == 6 :\n",
    "            nb_des_rest = nb_des_rest-1\n",
    "    return nb_des_rest"
   ]
  },
  {
   "cell_type": "markdown",
   "id": "narrow-palace",
   "metadata": {
    "tags": []
   },
   "source": [
    "<div class=\"alert alert-block alert-info\">\n",
    "    <b> Consignes </b>\n",
    "    <p> Exécuter la cellule suivant qui définie la fonction simul. On prendra le temps de lire la docstring (en rouge) afin de comprendre comment l'utiliser par la suite</p>"
   ]
  },
  {
   "cell_type": "code",
   "execution_count": 4,
   "id": "alpine-cooler",
   "metadata": {
    "tags": []
   },
   "outputs": [],
   "source": [
    "def simul (nb_des_i):\n",
    "    '''Fonction prenant en argument le nombre de dés initial.\n",
    "    Elle fait appelle à la fonction lance_des et affiche le graphique \n",
    "    représentant la variation du nombre de dés au cours des lancés.'''\n",
    "    ### initialisation des variables ###\n",
    "    N_t = int(nb_des_i)\n",
    "    # liste comptant les lancés\n",
    "    LANCES = []\n",
    "    # liste contenant les nombre de dés après chaque lancé\n",
    "    N = [] \n",
    "    compteur = 0\n",
    "    \n",
    "    ### lancé des dés tant qu'il en reste plus de 10% ###\n",
    "    while N_t > 0.1 * nb_des_i :\n",
    "        LANCES.append(compteur)\n",
    "        N.append(N_t)\n",
    "        N_t = lancer_des(N_t)\n",
    "        # On incrémente le compteur\n",
    "        compteur = compteur + 1 \n",
    "        \n",
    "    ### tracer de la courbe ###\n",
    "    plt.plot(LANCES, N, '-o' )\n",
    "    #quelques éléments graphiques\n",
    "    plt.grid()\n",
    "    plt.xlim(0)\n",
    "    plt.ylim(0)\n",
    "    plt.xlabel(\"Nombre de tirages\")\n",
    "    plt.ylabel(\"Nombre de dés restants\")\n",
    "    plt.show()"
   ]
  },
  {
   "cell_type": "markdown",
   "id": "6eedaca7-d9d9-4fed-a759-a3e85e116836",
   "metadata": {
    "tags": []
   },
   "source": [
    "<div class=\"alert alert-block alert-info\">\n",
    "    <b> Consignes </b>\n",
    "    <p> Utiliser les cellules ci-dessous pour répondre aux questionx 2 et 3. </p>"
   ]
  },
  {
   "cell_type": "code",
   "execution_count": 5,
   "id": "endless-morning",
   "metadata": {},
   "outputs": [
    {
     "data": {
      "image/png": "[encoded data removed]",
      "text/plain": [
       "<Figure size 432x288 with 1 Axes>"
      ]
     },
     "metadata": {
      "needs_background": "light"
     },
     "output_type": "display_data"
    }
   ],
   "source": [
    "# Question 2\n"
   ]
  },
  {
   "cell_type": "markdown",
   "id": "5cf57115-3376-4012-821c-73572f8746ae",
   "metadata": {
    "tags": []
   },
   "source": [
    "<div class=\"alert alert-block alert-success\">\n",
    "    <details>\n",
    "        <summary> <b> Aides </b> </summary>\n",
    "        <ul>\n",
    "            <li> Il faut utiliser la fonction définie précédemment</li>\n",
    "            <li> La valeur de l'argument est aux choix et dépend de la question</li>\n",
    "       \n",
    "</div>"
   ]
  },
  {
   "cell_type": "markdown",
   "id": "c905b168-a649-4705-a3c1-50e65c4c5055",
   "metadata": {},
   "source": [
    "<div class=\"alert alert-block alert-warning\">\n",
    "    <details>\n",
    "        <summary> <b> Solution </b> </summary>\n",
    "        <p> Il faut appeler la fonction simul en passant en argument la valeur correspondant au nombre de dès initial : 10 <code>simul(10) </code> </p>\n",
    "    </details>\n",
    "</div>"
   ]
  },
  {
   "cell_type": "code",
   "execution_count": 6,
   "id": "likely-healing",
   "metadata": {},
   "outputs": [
    {
     "data": {
      "image/png": "[encoded data removed]",
      "text/plain": [
       "<Figure size 432x288 with 1 Axes>"
      ]
     },
     "metadata": {
      "needs_background": "light"
     },
     "output_type": "display_data"
    }
   ],
   "source": [
    "# Question 3\n"
   ]
  },
  {
   "cell_type": "code",
   "execution_count": null,
   "id": "a6d7a7b2-17c4-4047-a4c7-c25dc169558f",
   "metadata": {},
   "outputs": [],
   "source": [
    "# Question 4\n",
    "..."
   ]
  },
  {
   "cell_type": "code",
   "execution_count": null,
   "id": "d2d713b5-5605-47d0-b06b-92b5106be8c0",
   "metadata": {},
   "outputs": [],
   "source": []
  },
  {
   "cell_type": "code",
   "execution_count": 1,
   "id": "d55e3ea7-9ac7-4d5f-98a3-bd983c798682",
   "metadata": {},
   "outputs": [
    {
     "ename": "ModuleNotFoundError",
     "evalue": "No module named 'importlib_metadata'",
     "output_type": "error",
     "traceback": [
      "\u001b[0;31m---------------------------------------------------------------------------\u001b[0m",
      "\u001b[0;31mModuleNotFoundError\u001b[0m                       Traceback (most recent call last)",
      "\u001b[0;32m<ipython-input-1-617dd809dca5>\u001b[0m in \u001b[0;36m<module>\u001b[0;34m\u001b[0m\n\u001b[0;32m----> 1\u001b[0;31m \u001b[0;32mfrom\u001b[0m \u001b[0mimportlib_metadata\u001b[0m \u001b[0;32mimport\u001b[0m \u001b[0mversion\u001b[0m\u001b[0;34m\u001b[0m\u001b[0;34m\u001b[0m\u001b[0m\n\u001b[0m\u001b[1;32m      2\u001b[0m \u001b[0mprint\u001b[0m\u001b[0;34m(\u001b[0m\u001b[0mversion\u001b[0m\u001b[0;34m(\u001b[0m\u001b[0;34m'numpy'\u001b[0m\u001b[0;34m)\u001b[0m\u001b[0;34m)\u001b[0m\u001b[0;34m\u001b[0m\u001b[0;34m\u001b[0m\u001b[0m\n",
      "\u001b[0;31mModuleNotFoundError\u001b[0m: No module named 'importlib_metadata'"
     ]
    }
   ],
   "source": [
    "from importlib_metadata import version\n",
    "print(version('numpy'))"
   ]
  }
 ],
 "metadata": {
  "kernelspec": {
   "display_name": "Python 3",
   "language": "python",
   "name": "python3"
  },
  "language_info": {
   "codemirror_mode": {
    "name": "ipython",
    "version": 3
   },
   "file_extension": ".py",
   "mimetype": "text/x-python",
   "name": "python",
   "nbconvert_exporter": "python",
   "pygments_lexer": "ipython3",
   "version": "3.8.10"
  }
 },
 "nbformat": 4,
 "nbformat_minor": 5
}
